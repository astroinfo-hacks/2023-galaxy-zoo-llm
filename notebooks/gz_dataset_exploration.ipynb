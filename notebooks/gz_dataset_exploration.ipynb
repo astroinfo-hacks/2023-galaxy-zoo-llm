{
 "cells": [
  {
   "attachments": {},
   "cell_type": "markdown",
   "id": "881c0d0c-e630-4154-b86c-6ccfbc989947",
   "metadata": {},
   "source": [
    "# Exploration of the GZ dataset\n",
    "\n",
    "### Goal\n",
    "In this notebook, we are interested in counting the number of user messages and words in each conversation.\n",
    "\n",
    "### Results\n",
    "* On average, there is 1.6 message per conversation.\n",
    "* On average, there are 22 words per conversation, but the varaice is high."
   ]
  },
  {
   "cell_type": "code",
   "execution_count": 2,
   "id": "3838c2a7-5f33-46f7-b4de-146fb404ec04",
   "metadata": {},
   "outputs": [],
   "source": [
    "import os\n",
    "import pandas as pd\n",
    "import json\n",
    "from tqdm import tqdm\n",
    "import numpy as np\n",
    "import matplotlib.pyplot as plt"
   ]
  },
  {
   "attachments": {},
   "cell_type": "markdown",
   "id": "cb4e4493-f82e-48fd-9fcf-d8dcc9861a04",
   "metadata": {},
   "source": [
    "### Load dataset"
   ]
  },
  {
   "cell_type": "code",
   "execution_count": 3,
   "id": "ee11c5bc-e93c-4497-8d11-11aebc37ba3c",
   "metadata": {},
   "outputs": [
    {
     "name": "stdout",
     "output_type": "stream",
     "text": [
      "Does dataset path exist ? True\n"
     ]
    }
   ],
   "source": [
    "basename = \"/home/michael/Workspace/datasets/galaxy_zoo/\"\n",
    "path = os.path.join(basename, \"GZ_talk_comments_notes_urls_AISSAI.csv\")\n",
    "print('Does dataset path exist ?', os.path.exists(path))"
   ]
  },
  {
   "cell_type": "code",
   "execution_count": 4,
   "id": "393d8193-5faf-4cf0-8ceb-a917a4bba3f9",
   "metadata": {},
   "outputs": [
    {
     "name": "stdout",
     "output_type": "stream",
     "text": [
      "Columns: Index(['locations', 'subject_id', 'subject_set_id', 'board_id', 'board_title',\n",
      "       'board_description', 'discussion_title', 'comment_id', 'comment_body'],\n",
      "      dtype='object')\n",
      "Number of lines: 159704\n"
     ]
    },
    {
     "data": {
      "text/html": [
       "<div>\n",
       "<style scoped>\n",
       "    .dataframe tbody tr th:only-of-type {\n",
       "        vertical-align: middle;\n",
       "    }\n",
       "\n",
       "    .dataframe tbody tr th {\n",
       "        vertical-align: top;\n",
       "    }\n",
       "\n",
       "    .dataframe thead th {\n",
       "        text-align: right;\n",
       "    }\n",
       "</style>\n",
       "<table border=\"1\" class=\"dataframe\">\n",
       "  <thead>\n",
       "    <tr style=\"text-align: right;\">\n",
       "      <th></th>\n",
       "      <th>locations</th>\n",
       "      <th>subject_id</th>\n",
       "      <th>subject_set_id</th>\n",
       "      <th>board_id</th>\n",
       "      <th>board_title</th>\n",
       "      <th>board_description</th>\n",
       "      <th>discussion_title</th>\n",
       "      <th>comment_id</th>\n",
       "      <th>comment_body</th>\n",
       "    </tr>\n",
       "  </thead>\n",
       "  <tbody>\n",
       "    <tr>\n",
       "      <th>0</th>\n",
       "      <td>{\"0\":\"https://panoptes-uploads.zooniverse.org/...</td>\n",
       "      <td>16215478.0</td>\n",
       "      <td>17452.0</td>\n",
       "      <td>1267</td>\n",
       "      <td>Notes</td>\n",
       "      <td>General comment threads about individual subjects</td>\n",
       "      <td>Subject 16215478</td>\n",
       "      <td>876591</td>\n",
       "      <td>The zoom scale of this image is incorrect. I a...</td>\n",
       "    </tr>\n",
       "    <tr>\n",
       "      <th>1</th>\n",
       "      <td>{\"0\":\"https://panoptes-uploads.zooniverse.org/...</td>\n",
       "      <td>16215746.0</td>\n",
       "      <td>17452.0</td>\n",
       "      <td>1267</td>\n",
       "      <td>Notes</td>\n",
       "      <td>General comment threads about individual subjects</td>\n",
       "      <td>Subject 16215746</td>\n",
       "      <td>894378</td>\n",
       "      <td>this seems to have a lens effect</td>\n",
       "    </tr>\n",
       "    <tr>\n",
       "      <th>2</th>\n",
       "      <td>{\"0\":\"https://panoptes-uploads.zooniverse.org/...</td>\n",
       "      <td>16215478.0</td>\n",
       "      <td>17452.0</td>\n",
       "      <td>1267</td>\n",
       "      <td>Notes</td>\n",
       "      <td>General comment threads about individual subjects</td>\n",
       "      <td>Subject 16215478</td>\n",
       "      <td>894381</td>\n",
       "      <td>Agree with @user on scale difference. Answered...</td>\n",
       "    </tr>\n",
       "    <tr>\n",
       "      <th>3</th>\n",
       "      <td>{\"0\":\"https://panoptes-uploads.zooniverse.org/...</td>\n",
       "      <td>16215566.0</td>\n",
       "      <td>17452.0</td>\n",
       "      <td>1267</td>\n",
       "      <td>Notes</td>\n",
       "      <td>General comment threads about individual subjects</td>\n",
       "      <td>Subject 16215566</td>\n",
       "      <td>894401</td>\n",
       "      <td>Looks like two galaxies merging</td>\n",
       "    </tr>\n",
       "    <tr>\n",
       "      <th>4</th>\n",
       "      <td>{\"0\":\"https://panoptes-uploads.zooniverse.org/...</td>\n",
       "      <td>16215897.0</td>\n",
       "      <td>17452.0</td>\n",
       "      <td>1267</td>\n",
       "      <td>Notes</td>\n",
       "      <td>General comment threads about individual subjects</td>\n",
       "      <td>Subject 16215897</td>\n",
       "      <td>894403</td>\n",
       "      <td>appears to have 3 obvious bright objects lined...</td>\n",
       "    </tr>\n",
       "  </tbody>\n",
       "</table>\n",
       "</div>"
      ],
      "text/plain": [
       "                                           locations  subject_id  \\\n",
       "0  {\"0\":\"https://panoptes-uploads.zooniverse.org/...  16215478.0   \n",
       "1  {\"0\":\"https://panoptes-uploads.zooniverse.org/...  16215746.0   \n",
       "2  {\"0\":\"https://panoptes-uploads.zooniverse.org/...  16215478.0   \n",
       "3  {\"0\":\"https://panoptes-uploads.zooniverse.org/...  16215566.0   \n",
       "4  {\"0\":\"https://panoptes-uploads.zooniverse.org/...  16215897.0   \n",
       "\n",
       "   subject_set_id  board_id board_title  \\\n",
       "0         17452.0      1267       Notes   \n",
       "1         17452.0      1267       Notes   \n",
       "2         17452.0      1267       Notes   \n",
       "3         17452.0      1267       Notes   \n",
       "4         17452.0      1267       Notes   \n",
       "\n",
       "                                   board_description  discussion_title  \\\n",
       "0  General comment threads about individual subjects  Subject 16215478   \n",
       "1  General comment threads about individual subjects  Subject 16215746   \n",
       "2  General comment threads about individual subjects  Subject 16215478   \n",
       "3  General comment threads about individual subjects  Subject 16215566   \n",
       "4  General comment threads about individual subjects  Subject 16215897   \n",
       "\n",
       "   comment_id                                       comment_body  \n",
       "0      876591  The zoom scale of this image is incorrect. I a...  \n",
       "1      894378                   this seems to have a lens effect  \n",
       "2      894381  Agree with @user on scale difference. Answered...  \n",
       "3      894401                    Looks like two galaxies merging  \n",
       "4      894403  appears to have 3 obvious bright objects lined...  "
      ]
     },
     "execution_count": 4,
     "metadata": {},
     "output_type": "execute_result"
    }
   ],
   "source": [
    "data = pd.read_csv(path)\n",
    "print('Columns:', data.columns)\n",
    "print('Number of lines:', len(data))\n",
    "data.head()"
   ]
  },
  {
   "attachments": {},
   "cell_type": "markdown",
   "id": "03d49184-2639-4c83-ba62-929dfb01006b",
   "metadata": {},
   "source": [
    "### Group the conversations together"
   ]
  },
  {
   "cell_type": "code",
   "execution_count": 5,
   "id": "a21cf335-af51-402a-8bca-fb14f266a3ac",
   "metadata": {},
   "outputs": [
    {
     "name": "stdout",
     "output_type": "stream",
     "text": [
      "Number of conversations: 99591\n"
     ]
    }
   ],
   "source": [
    "grouped_data = data.groupby('subject_id')\n",
    "print('Number of conversations:', len(grouped_data))"
   ]
  },
  {
   "attachments": {},
   "cell_type": "markdown",
   "id": "c6d69530-f09a-46c7-982c-e8067a404b58",
   "metadata": {},
   "source": [
    "### Calculate the number of messages and words per conversation"
   ]
  },
  {
   "cell_type": "code",
   "execution_count": 6,
   "id": "0dd53e2e-82ef-4752-8588-48747f3e0c5f",
   "metadata": {},
   "outputs": [
    {
     "data": {
      "text/plain": [
       "1.6035987187597274"
      ]
     },
     "execution_count": 6,
     "metadata": {},
     "output_type": "execute_result"
    }
   ],
   "source": [
    "ratio = len(data) / len(grouped_data)\n",
    "ratio"
   ]
  },
  {
   "cell_type": "code",
   "execution_count": 7,
   "id": "2d64bd0e-4321-42ef-b505-6699d23746b4",
   "metadata": {},
   "outputs": [],
   "source": [
    "n_messages = []\n",
    "n_caracters = []\n",
    "for discussion_id, group in grouped_data:\n",
    "    n_messages.append(len(group['comment_body']))\n",
    "    group_list = group['comment_body'].tolist()\n",
    "    for sentence in group_list:\n",
    "        if isinstance(sentence, float):\n",
    "            if np.isnan(sentence):\n",
    "                group_list.remove(sentence)\n",
    "    n_caracters.append(sum(len(sentence.split()) for sentence in group_list))\n",
    "n_messages = np.array(n_messages)\n",
    "n_caracters = np.array(n_caracters)"
   ]
  },
  {
   "cell_type": "code",
   "execution_count": 8,
   "id": "5a57aa5a-1d21-4f61-aec9-741058e49f84",
   "metadata": {},
   "outputs": [
    {
     "name": "stdout",
     "output_type": "stream",
     "text": [
      "1.6030263778855518\n",
      "22.264752839111967\n"
     ]
    }
   ],
   "source": [
    "print(n_messages.mean())\n",
    "print(n_caracters.mean())"
   ]
  },
  {
   "cell_type": "code",
   "execution_count": 9,
   "id": "122c6217-7408-4cbb-bf63-5fb81c28f9b8",
   "metadata": {},
   "outputs": [
    {
     "data": {
      "text/plain": [
       "Text(0.5, 1.0, 'Number of words par conversation')"
      ]
     },
     "execution_count": 9,
     "metadata": {},
     "output_type": "execute_result"
    },
    {
     "data": {
      "image/png": "[encoded data removed]",
      "text/plain": [
       "<Figure size 1500x500 with 2 Axes>"
      ]
     },
     "metadata": {},
     "output_type": "display_data"
    }
   ],
   "source": [
    "plt.figure(figsize=(15, 5))\n",
    "plt.subplot(1, 2, 1)\n",
    "plt.hist(n_messages, bins=np.arange(10));\n",
    "plt.title('Number of messages per conversation')\n",
    "plt.subplot(1, 2, 2)\n",
    "plt.hist(n_caracters, bins=np.arange(100));\n",
    "plt.title('Number of words par conversation')"
   ]
  },
  {
   "cell_type": "code",
   "execution_count": null,
   "id": "2a01a631-5506-49ca-a644-0aa558fa52f5",
   "metadata": {},
   "outputs": [],
   "source": []
  }
 ],
 "metadata": {
  "kernelspec": {
   "display_name": "Python 3 (ipykernel)",
   "language": "python",
   "name": "python3"
  },
  "language_info": {
   "codemirror_mode": {
    "name": "ipython",
    "version": 3
   },
   "file_extension": ".py",
   "mimetype": "text/x-python",
   "name": "python",
   "nbconvert_exporter": "python",
   "pygments_lexer": "ipython3",
   "version": "3.11.3"
  }
 },
 "nbformat": 4,
 "nbformat_minor": 5
}
