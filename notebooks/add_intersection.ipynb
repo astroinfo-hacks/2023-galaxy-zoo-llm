{
 "cells": [
  {
   "cell_type": "markdown",
   "metadata": {},
   "source": [
    "# Add intersection\n",
    "\n",
    "In the notebook, we test the add intersection function that allows to merge two datasets."
   ]
  },
  {
   "cell_type": "code",
   "execution_count": 1,
   "metadata": {},
   "outputs": [],
   "source": [
    "import sys\n",
    "sys.path.append('../scripts')\n",
    "\n",
    "from gz_datasets import GZDataset"
   ]
  },
  {
   "cell_type": "code",
   "execution_count": 2,
   "metadata": {},
   "outputs": [
    {
     "name": "stdout",
     "output_type": "stream",
     "text": [
      "39500\n",
      "36532\n",
      "76032\n"
     ]
    }
   ],
   "source": [
    "dataset_0 = GZDataset().from_file('/home/michael/Downloads/galaxyzoo/dataset_v1_1.json')\n",
    "dataset_1 = GZDataset().from_file('/home/michael/Downloads/galaxyzoo/dataset_v1_2.json')\n",
    "\n",
    "print(len(dataset_0.dataset))\n",
    "print(len(dataset_1.dataset))\n",
    "print(len(dataset_0.dataset) + len(dataset_1.dataset))"
   ]
  },
  {
   "cell_type": "code",
   "execution_count": 3,
   "metadata": {},
   "outputs": [
    {
     "name": "stdout",
     "output_type": "stream",
     "text": [
      "Number of entries: 75774\n"
     ]
    }
   ],
   "source": [
    "dataset_output = dataset_0.from_list(dataset_0.dataset)\n",
    "dataset_output.add_intersection(dataset_1)"
   ]
  },
  {
   "cell_type": "code",
   "execution_count": null,
   "metadata": {},
   "outputs": [],
   "source": []
  }
 ],
 "metadata": {
  "kernelspec": {
   "display_name": "galaxyzoo",
   "language": "python",
   "name": "python3"
  },
  "language_info": {
   "codemirror_mode": {
    "name": "ipython",
    "version": 3
   },
   "file_extension": ".py",
   "mimetype": "text/x-python",
   "name": "python",
   "nbconvert_exporter": "python",
   "pygments_lexer": "ipython3",
   "version": "3.11.3"
  },
  "orig_nbformat": 4
 },
 "nbformat": 4,
 "nbformat_minor": 2
}
