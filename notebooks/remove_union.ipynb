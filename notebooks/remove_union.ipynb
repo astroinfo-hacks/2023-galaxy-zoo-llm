{
 "cells": [
  {
   "cell_type": "markdown",
   "metadata": {},
   "source": [
    "# Remove union\n",
    "\n",
    "In the notebook, we test the remove union function that allows to recover from a already generated but incomplete dataset."
   ]
  },
  {
   "cell_type": "code",
   "execution_count": 2,
   "metadata": {},
   "outputs": [],
   "source": [
    "import sys\n",
    "sys.path.append('../scripts')\n",
    "\n",
    "from gz_datasets import GZDataset"
   ]
  },
  {
   "cell_type": "code",
   "execution_count": 3,
   "metadata": {},
   "outputs": [
    {
     "name": "stdout",
     "output_type": "stream",
     "text": [
      "99591\n",
      "62500\n",
      "37091\n"
     ]
    }
   ],
   "source": [
    "dataset_input = GZDataset().from_file('/home/michael/Downloads/galaxyzoo/GZ_talk_comments_notes_urls_AISSAI.json')\n",
    "dataset_recovered = GZDataset().from_file('/home/michael/Downloads/galaxyzoo/dataset_v0.json')\n",
    "\n",
    "print(len(dataset_input.dataset))\n",
    "print(len(dataset_recovered.dataset))\n",
    "print(len(dataset_input.dataset) - len(dataset_recovered.dataset))"
   ]
  },
  {
   "cell_type": "code",
   "execution_count": 4,
   "metadata": {},
   "outputs": [
    {
     "name": "stdout",
     "output_type": "stream",
     "text": [
      "Number of entries left: 37091\n"
     ]
    }
   ],
   "source": [
    "dataset_output = dataset_input.from_list(dataset_input.dataset)\n",
    "dataset_output.remove_union(dataset_recovered)"
   ]
  },
  {
   "cell_type": "code",
   "execution_count": null,
   "metadata": {},
   "outputs": [],
   "source": []
  }
 ],
 "metadata": {
  "kernelspec": {
   "display_name": "galaxyzoo",
   "language": "python",
   "name": "python3"
  },
  "language_info": {
   "codemirror_mode": {
    "name": "ipython",
    "version": 3
   },
   "file_extension": ".py",
   "mimetype": "text/x-python",
   "name": "python",
   "nbconvert_exporter": "python",
   "pygments_lexer": "ipython3",
   "version": "3.11.3"
  },
  "orig_nbformat": 4
 },
 "nbformat": 4,
 "nbformat_minor": 2
}
