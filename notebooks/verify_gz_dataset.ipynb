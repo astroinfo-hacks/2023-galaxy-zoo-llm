{
 "cells": [
  {
   "cell_type": "markdown",
   "metadata": {},
   "source": [
    "# Verification of the GZ dataset\n",
    "\n",
    "### Goal\n",
    "In this notebook, we inspect the GZ dataset and check that the conversations are properly defined. In more details, we check these two elements:\n",
    "* conversations are in a 'string' format\n",
    "* conversations contains less than MAX_TOKENS"
   ]
  },
  {
   "cell_type": "code",
   "execution_count": 1,
   "metadata": {},
   "outputs": [],
   "source": [
    "import os\n",
    "import sys\n",
    "sys.path.append('../scripts/')\n",
    "from gz_datasets import GZDataset\n",
    "import matplotlib.pyplot as plt\n",
    "import numpy as np\n",
    "from multiprocessing import Pool\n",
    "from tqdm import tqdm"
   ]
  },
  {
   "cell_type": "markdown",
   "metadata": {},
   "source": [
    "### Load dataset"
   ]
  },
  {
   "cell_type": "code",
   "execution_count": 2,
   "metadata": {},
   "outputs": [
    {
     "name": "stdout",
     "output_type": "stream",
     "text": [
      "Does dataset path exist ? True\n"
     ]
    }
   ],
   "source": [
    "dirname = \"/home/michael/Workspace/datasets/galaxy_zoo/\"\n",
    "filename = \"GZ_talk_comments_notes_urls_AISSAI.json\"\n",
    "\n",
    "path = os.path.join(dirname, filename)\n",
    "print('Does dataset path exist ?', os.path.exists(path))"
   ]
  },
  {
   "cell_type": "code",
   "execution_count": 3,
   "metadata": {},
   "outputs": [
    {
     "name": "stdout",
     "output_type": "stream",
     "text": [
      "Dataset length: 99591\n"
     ]
    }
   ],
   "source": [
    "dataset_gz = GZDataset().from_file(path)\n",
    "\n",
    "print('Dataset length:', len(dataset_gz.dataset))"
   ]
  },
  {
   "cell_type": "code",
   "execution_count": null,
   "metadata": {},
   "outputs": [],
   "source": []
  },
  {
   "cell_type": "code",
   "execution_count": 7,
   "metadata": {},
   "outputs": [
    {
     "data": {
      "text/plain": [
       "\"What is that red object? Star, galaxy, optical effect or other? Hi TiborAcs and welcome to the Zoo,\\n\\nThe red object is a foreground star from our galaxy and so is the whitish object at 5 o'clock.\\nHope this helps and happy hunting ! #over-lap by #local-star,Thanks! Beautiful Ã\\x83Â°Ã\\x82Â\\x9fÃ\\x82Â\\x8cÃ\\x82Â\\x9fI thought this looked like an elliptical, but it's very blue. It must be starforming so perhaps it's a spiral after all? Or a blue elliptical?\""
      ]
     },
     "execution_count": 7,
     "metadata": {},
     "output_type": "execute_result"
    }
   ],
   "source": [
    "dataset = dataset_gz.dataset[0]\n",
    "conv = dataset['conversations']\n",
    "conv_concat = \"\"\n",
    "for m in conv:\n",
    "    conv_concat += m['value']\n",
    "\n",
    "conv_concat"
   ]
  },
  {
   "cell_type": "code",
   "execution_count": null,
   "metadata": {},
   "outputs": [],
   "source": [
    "data = []\n",
    "with Pool(4) as pool:\n",
    "    for result in tqdm(pool.imap(self.inspect, self.dataset), total=len(self.dataset), desc=\"Inspect GZ dataset\"):\n",
    "        if result is not None:\n",
    "            data.append(result)\n",
    "        # Write to json every 100 answers\n",
    "        if len(data) % 100 == 0:\n",
    "            self.write_to_json(data, self.output_path)\n",
    "if data:\n",
    "    self.write_to_json(data, self.output_path)"
   ]
  },
  {
   "cell_type": "code",
   "execution_count": null,
   "metadata": {},
   "outputs": [],
   "source": [
    "class GZInspector:\n",
    "\n",
    "    def concat_conversation(self, entry: dict) -> str:\n",
    "        conversation = \"\"\n",
    "        for j in range(len(entry['conversations'])):\n",
    "            conversation += \"User: \" + entry['conversations'][j]['value'] + \"\\n\\n\"\n",
    "\n",
    "        return conversation\n",
    "    \n",
    "    def inspect(self, entry: dict) -> dict:\n",
    "        conversation = self.concat_conversation(entry)\n",
    "        if isinstance(conversation, str):\n",
    "            return conversation\n",
    "        else:\n",
    "            return None\n",
    "\n",
    "    def run_inspection(self) -> list[dict]:\n",
    "        data = []\n",
    "        with Pool(4) as pool:\n",
    "            for result in tqdm(pool.imap(self.inspect, self.dataset), total=len(self.dataset), desc=\"Inspect GZ dataset\"):\n",
    "                if result is not None:\n",
    "                    data.append(result)\n",
    "                # Write to json every 100 answers\n",
    "                if len(data) % 100 == 0:\n",
    "                    self.write_to_json(data, self.output_path)\n",
    "        if data:\n",
    "            self.write_to_json(data, self.output_path)\n",
    "\n",
    "        return data"
   ]
  },
  {
   "cell_type": "code",
   "execution_count": null,
   "metadata": {},
   "outputs": [],
   "source": [
    "issues = gz_inspector.run_inspection()"
   ]
  },
  {
   "cell_type": "code",
   "execution_count": null,
   "metadata": {},
   "outputs": [],
   "source": []
  }
 ],
 "metadata": {
  "kernelspec": {
   "display_name": "galaxyzoo",
   "language": "python",
   "name": "python3"
  },
  "language_info": {
   "codemirror_mode": {
    "name": "ipython",
    "version": 3
   },
   "file_extension": ".py",
   "mimetype": "text/x-python",
   "name": "python",
   "nbconvert_exporter": "python",
   "pygments_lexer": "ipython3",
   "version": "3.11.3"
  },
  "orig_nbformat": 4
 },
 "nbformat": 4,
 "nbformat_minor": 2
}
