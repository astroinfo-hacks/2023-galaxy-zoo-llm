{
 "cells": [
  {
   "cell_type": "markdown",
   "metadata": {},
   "source": [
    "# Get the number of tokens\n",
    "\n",
    "Inspired from https://github.com/openai/openai-cookbook/blob/main/examples/How_to_count_tokens_with_tiktoken.ipynb"
   ]
  },
  {
   "cell_type": "code",
   "execution_count": 78,
   "metadata": {},
   "outputs": [],
   "source": [
    "import tiktoken\n",
    "import json\n",
    "import random\n",
    "import pandas as pd\n",
    "import tqdm\n",
    "import importlib\n",
    "import copy"
   ]
  },
  {
   "cell_type": "code",
   "execution_count": 76,
   "metadata": {},
   "outputs": [],
   "source": [
    "def load_dataset(input_path: str, n_inputs: int = -1) -> list[dict]:\n",
    "        \"\"\"\n",
    "        Load the galaxy-zoo json dataset. If specified, a random subset of the dataset is returned.\n",
    "        \"\"\"\n",
    "        with open(input_path, 'r') as file:\n",
    "            dataset = json.load(file)\n",
    "        if 0 < n_inputs < len(dataset):\n",
    "            return random.sample(dataset, n_inputs)\n",
    "        else:\n",
    "            return dataset\n",
    "        \n",
    "def load_module(path: str):\n",
    "        \"\"\"\n",
    "        Allows to load variables from questions.py and prompt.py.\n",
    "        \"\"\"\n",
    "        spec = importlib.util.spec_from_file_location(\"settings\", path)\n",
    "        module = importlib.util.module_from_spec(spec)\n",
    "        spec.loader.exec_module(module)\n",
    "        return module\n",
    "        \n",
    "def concat_conversation(entry: dict) -> str:\n",
    "        conversation = \"\"\n",
    "        for j in range(len(entry['conversations'])):\n",
    "            message = entry['conversations'][j]['value']\n",
    "            if isinstance(message, str):\n",
    "                conversation += \"User: \" + message + \"\\n\\n\"\n",
    "\n",
    "        return conversation\n",
    "\n",
    "def num_tokens_from_string(string: str, encoding_name: str = \"cl100k_base\") -> int:\n",
    "    \"\"\"Returns the number of tokens in a text string.\"\"\"\n",
    "    encoding = tiktoken.get_encoding(encoding_name)\n",
    "    num_tokens = len(encoding.encode(string))\n",
    "    return num_tokens"
   ]
  },
  {
   "cell_type": "code",
   "execution_count": 77,
   "metadata": {},
   "outputs": [],
   "source": [
    "input_file = '/home/michael/Workspace/datasets/galaxy_zoo/GZ_talk_comments_notes_urls_AISSAI.json'\n",
    "prompt_file = \"../scripts/prompt.py\"\n",
    "\n",
    "dataset = load_dataset(input_file, -1)\n",
    "module = load_module(prompt_file)\n",
    "prompt = module.PROMPT_DESC\n",
    "questions = module.QUESTIONS_V0"
   ]
  },
  {
   "cell_type": "code",
   "execution_count": 83,
   "metadata": {},
   "outputs": [
    {
     "data": {
      "text/plain": [
       "247"
      ]
     },
     "execution_count": 83,
     "metadata": {},
     "output_type": "execute_result"
    }
   ],
   "source": [
    "num_tokens_from_string(prompt)"
   ]
  },
  {
   "cell_type": "code",
   "execution_count": 81,
   "metadata": {},
   "outputs": [
    {
     "name": "stderr",
     "output_type": "stream",
     "text": [
      "100%|██████████| 99591/99591 [00:14<00:00, 7042.98it/s]\n"
     ]
    },
    {
     "data": {
      "text/html": [
       "<div>\n",
       "<style scoped>\n",
       "    .dataframe tbody tr th:only-of-type {\n",
       "        vertical-align: middle;\n",
       "    }\n",
       "\n",
       "    .dataframe tbody tr th {\n",
       "        vertical-align: top;\n",
       "    }\n",
       "\n",
       "    .dataframe thead th {\n",
       "        text-align: right;\n",
       "    }\n",
       "</style>\n",
       "<table border=\"1\" class=\"dataframe\">\n",
       "  <thead>\n",
       "    <tr style=\"text-align: right;\">\n",
       "      <th></th>\n",
       "      <th>id</th>\n",
       "      <th>n_tokens</th>\n",
       "      <th>n_caracters</th>\n",
       "    </tr>\n",
       "  </thead>\n",
       "  <tbody>\n",
       "    <tr>\n",
       "      <th>0</th>\n",
       "      <td>16215288</td>\n",
       "      <td>388</td>\n",
       "      <td>1698</td>\n",
       "    </tr>\n",
       "    <tr>\n",
       "      <th>1</th>\n",
       "      <td>16215291</td>\n",
       "      <td>266</td>\n",
       "      <td>1275</td>\n",
       "    </tr>\n",
       "    <tr>\n",
       "      <th>2</th>\n",
       "      <td>16215293</td>\n",
       "      <td>280</td>\n",
       "      <td>1360</td>\n",
       "    </tr>\n",
       "    <tr>\n",
       "      <th>3</th>\n",
       "      <td>16215294</td>\n",
       "      <td>303</td>\n",
       "      <td>1395</td>\n",
       "    </tr>\n",
       "    <tr>\n",
       "      <th>4</th>\n",
       "      <td>16215296</td>\n",
       "      <td>273</td>\n",
       "      <td>1304</td>\n",
       "    </tr>\n",
       "  </tbody>\n",
       "</table>\n",
       "</div>"
      ],
      "text/plain": [
       "         id  n_tokens  n_caracters\n",
       "0  16215288       388         1698\n",
       "1  16215291       266         1275\n",
       "2  16215293       280         1360\n",
       "3  16215294       303         1395\n",
       "4  16215296       273         1304"
      ]
     },
     "execution_count": 81,
     "metadata": {},
     "output_type": "execute_result"
    }
   ],
   "source": [
    "metadata = []\n",
    "question = questions[0]\n",
    "\n",
    "for entry in tqdm.tqdm(dataset):\n",
    "    concat_entry = concat_conversation(entry)\n",
    "    content = copy.deepcopy(prompt) % (concat_entry, question)\n",
    "    n_tokens = num_tokens_from_string(content)\n",
    "    n_caracters = len(content)\n",
    "    id = entry['id']\n",
    "    metadata.append({\n",
    "        'id': id,\n",
    "        'n_tokens': n_tokens,\n",
    "        'n_caracters': n_caracters,\n",
    "    })\n",
    "\n",
    "metadata = pd.DataFrame(metadata)\n",
    "metadata.head()\n"
   ]
  },
  {
   "cell_type": "code",
   "execution_count": 91,
   "metadata": {},
   "outputs": [
    {
     "data": {
      "text/plain": [
       "array([[<Axes: title={'center': 'n_tokens'}>]], dtype=object)"
      ]
     },
     "execution_count": 91,
     "metadata": {},
     "output_type": "execute_result"
    },
    {
     "data": {
      "image/png": "[encoded data removed]",
      "text/plain": [
       "<Figure size 640x480 with 1 Axes>"
      ]
     },
     "metadata": {},
     "output_type": "display_data"
    }
   ],
   "source": [
    "metadata.hist('n_tokens')"
   ]
  },
  {
   "cell_type": "code",
   "execution_count": 88,
   "metadata": {},
   "outputs": [
    {
     "data": {
      "text/plain": [
       "70"
      ]
     },
     "execution_count": 88,
     "metadata": {},
     "output_type": "execute_result"
    }
   ],
   "source": [
    "MAX_TOKENS = 2048\n",
    "\n",
    "metadata['n_tokens'].apply(lambda x: x > MAX_TOKENS).sum()"
   ]
  },
  {
   "cell_type": "code",
   "execution_count": null,
   "metadata": {},
   "outputs": [],
   "source": []
  }
 ],
 "metadata": {
  "kernelspec": {
   "display_name": "galaxyzoo",
   "language": "python",
   "name": "python3"
  },
  "language_info": {
   "codemirror_mode": {
    "name": "ipython",
    "version": 3
   },
   "file_extension": ".py",
   "mimetype": "text/x-python",
   "name": "python",
   "nbconvert_exporter": "python",
   "pygments_lexer": "ipython3",
   "version": "3.11.3"
  },
  "orig_nbformat": 4
 },
 "nbformat": 4,
 "nbformat_minor": 2
}
