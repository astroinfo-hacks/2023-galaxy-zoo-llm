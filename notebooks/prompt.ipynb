{
 "cells": [
  {
   "cell_type": "code",
   "execution_count": null,
   "metadata": {},
   "outputs": [],
   "source": [
    "\n",
    "import os\n",
    "import openai\n",
    "openai.api_key = os.getenv(\"OPENAI_API_KEY\")\n",
    "import pandas as pd\n"
   ]
  },
  {
   "cell_type": "code",
   "execution_count": 17,
   "metadata": {},
   "outputs": [
    {
     "data": {
      "text/plain": [
       "'User: Does the galaxy in the image have a bright red color in its core? \\nAssistant: Yes, it appears that the galaxy has a bright red color either in its core or behind it.\\n\\nUser: Does the image show signs of a possible merger?\\nAssistant: Yes, the galaxy seems to have an irregular shape, which could suggest a possible merger.'"
      ]
     },
     "execution_count": 17,
     "metadata": {},
     "output_type": "execute_result"
    }
   ],
   "source": [
    "prompt = \"\"\"You are an AI assistant specialising in astronomical topics.\n",
    "You are provided with the following conversation between galaxy zoo users that comment on an astronomical image. Unfortunately, you do not have access to the actual image.\n",
    "\n",
    "Below are requirements for generating the questions and answers in the conversation:\n",
    "\n",
    "- Avoid quoting or referring to specific facts, terms, abbreviations, dates, numbers, or\n",
    "names, as these may reveal the conversation is based on the text information, rather than\n",
    "the image itself. Focus on the visual aspects of the image that can be inferred without\n",
    "the text information.\n",
    "- Do not use phrases like \"mentioned\", \"caption\", \"context\" in the conversation. Instead,\n",
    "refer to the information as being \"in the image.\"\n",
    "- Ensure that questions are diverse and cover a range of visual aspects of the image.\n",
    "- The conversation must include 2 questions and 2 answers about the\n",
    "visual aspects of the image.\n",
    "- Do not use your knowledge to interpret the image and keep the questions and answers short.\n",
    "\n",
    "Please come up with a set of 2 user questions and assistant answers about that image.\n",
    "\n",
    "For example, you have this User-Assistant set of questions.\n",
    "\n",
    "User: What can you see in this image? \\\\\n",
    "Assistant: There are two galaxies merging. \\\\\n",
    "User: Is one of the galaxies a smaller galaxy? \\\\\n",
    "Assistant: It appears so.\n",
    "\n",
    "This is the conversation:\n",
    "-----\n",
    "User: I think this Galaxy has a #bright-red either behind it or in its core, I think this is an #interesting galaxy\n",
    "\n",
    "User: #irregular possible #merger\n",
    "------\n",
    "\n",
    "End of conversation.\n",
    "\"\"\"\n",
    "response = openai.ChatCompletion.create(\n",
    "  model = 'gpt-4',\n",
    "  messages = [\n",
    "    {'role': 'user', 'content': prompt}\n",
    "  ],\n",
    "  temperature = 0\n",
    ")\n",
    "\n",
    "#print(completion['choices'][0]['message']['content'])\n",
    "\n",
    "response[\"choices\"][0][\"message\"][\"content\"]"
   ]
  },
  {
   "cell_type": "code",
   "execution_count": null,
   "metadata": {},
   "outputs": [],
   "source": []
  },
  {
   "cell_type": "code",
   "execution_count": 14,
   "metadata": {},
   "outputs": [
    {
     "data": {
      "text/plain": [
       "'User: Does the image show any signs of star formation?\\nAssistant: Yes, there are areas of bright light that could indicate star formation.\\n\\nUser: Are there any visible dust lanes in the galaxies?\\nAssistant: Yes, there are dark streaks across the galaxies that could be dust lanes.'"
      ]
     },
     "execution_count": 14,
     "metadata": {},
     "output_type": "execute_result"
    }
   ],
   "source": []
  },
  {
   "cell_type": "code",
   "execution_count": 4,
   "metadata": {},
   "outputs": [],
   "source": []
  },
  {
   "cell_type": "code",
   "execution_count": null,
   "metadata": {},
   "outputs": [],
   "source": []
  }
 ],
 "metadata": {
  "kernelspec": {
   "display_name": "astrofm",
   "language": "python",
   "name": "python3"
  },
  "language_info": {
   "codemirror_mode": {
    "name": "ipython",
    "version": 3
   },
   "file_extension": ".py",
   "mimetype": "text/x-python",
   "name": "python",
   "nbconvert_exporter": "python",
   "pygments_lexer": "ipython3",
   "version": "3.11.3"
  },
  "orig_nbformat": 4
 },
 "nbformat": 4,
 "nbformat_minor": 2
}
