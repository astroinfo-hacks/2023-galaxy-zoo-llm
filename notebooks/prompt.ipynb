{
 "cells": [
  {
   "attachments": {},
   "cell_type": "markdown",
   "metadata": {},
   "source": [
    "# Test prompt"
   ]
  },
  {
   "cell_type": "code",
   "execution_count": 1,
   "metadata": {},
   "outputs": [],
   "source": [
    "import os\n",
    "import openai\n",
    "import pandas as pd\n",
    "import importlib"
   ]
  },
  {
   "cell_type": "code",
   "execution_count": 2,
   "metadata": {},
   "outputs": [],
   "source": [
    "openai.api_key = os.getenv(\"OPENAI_API_KEY\")"
   ]
  },
  {
   "cell_type": "code",
   "execution_count": 3,
   "metadata": {},
   "outputs": [],
   "source": [
    "configuration_file = \"../scripts/prompt.py\"\n",
    "spec = importlib.util.spec_from_file_location(\"settings\", configuration_file)\n",
    "settings = importlib.util.module_from_spec(spec)\n",
    "spec.loader.exec_module(settings)\n",
    "prompt = settings.prompt"
   ]
  },
  {
   "cell_type": "code",
   "execution_count": 4,
   "metadata": {},
   "outputs": [
    {
     "data": {
      "text/plain": [
       "'\\nYou are an AI assistant specialising in astronomical topics. \\nYou are provided with the following conversation between galaxy zoo users \\nthat comment on an astronomical image. Unfortunately, you do not have access to the actual image.\\nConversation:\\n------\\nAAA\\n------\\nEnd of conversation.\\nAnswer the question asked below between you and a person asking about this photo. \\nThe answers should be in a tone that a visual AI assistant is seeing the \\nimage and answering the question. \\n\\nBelow are the requirements for generating the answer:\\n1. Avoid quoting or referring to specific facts, terms, abbreviations, dates, numbers, or\\nnames, as these may reveal the conversation is based on the text information, rather than\\nthe image itself. Focus on the visual aspects of the image that can be inferred without\\nthe text information. 2. Do not use phrases like \"mentioned\", \"caption\", \"context\" in the conversation. Instead,\\nrefer to the information as being \"in the image.\" 3. Do not use your knowledge to interpret the image and keep the answers short. \\nNow, please respond to the question below as if you were describing the image in the style of a professional astronomer.\\n\\nQuestion: BBB\\nAnswer:\\n'"
      ]
     },
     "execution_count": 4,
     "metadata": {},
     "output_type": "execute_result"
    }
   ],
   "source": [
    "prompt % ('AAA', 'BBB')"
   ]
  },
  {
   "cell_type": "code",
   "execution_count": 5,
   "metadata": {},
   "outputs": [],
   "source": [
    "response = openai.ChatCompletion.create(\n",
    "  model = 'gpt-3.5-turbo',\n",
    "  messages = [\n",
    "    {'role': 'user', 'content': prompt}\n",
    "  ],\n",
    "  temperature = 0\n",
    ")"
   ]
  },
  {
   "cell_type": "code",
   "execution_count": 6,
   "metadata": {},
   "outputs": [
    {
     "data": {
      "text/plain": [
       "'In the image, there appears to be a bright central object surrounded by a spiral structure. The spiral arms seem to extend outward from the central region. The overall shape of the galaxy suggests that it is a spiral galaxy.'"
      ]
     },
     "execution_count": 6,
     "metadata": {},
     "output_type": "execute_result"
    }
   ],
   "source": [
    "response[\"choices\"][0][\"message\"][\"content\"]"
   ]
  },
  {
   "cell_type": "code",
   "execution_count": null,
   "metadata": {},
   "outputs": [],
   "source": []
  }
 ],
 "metadata": {
  "kernelspec": {
   "display_name": "astrofm",
   "language": "python",
   "name": "python3"
  },
  "language_info": {
   "codemirror_mode": {
    "name": "ipython",
    "version": 3
   },
   "file_extension": ".py",
   "mimetype": "text/x-python",
   "name": "python",
   "nbconvert_exporter": "python",
   "pygments_lexer": "ipython3",
   "version": "3.11.3"
  },
  "orig_nbformat": 4
 },
 "nbformat": 4,
 "nbformat_minor": 2
}
