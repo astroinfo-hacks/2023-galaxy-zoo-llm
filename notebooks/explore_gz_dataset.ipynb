{
 "cells": [
  {
   "attachments": {},
   "cell_type": "markdown",
   "id": "881c0d0c-e630-4154-b86c-6ccfbc989947",
   "metadata": {},
   "source": [
    "# Exploration of the GZ dataset\n",
    "\n",
    "### Goal\n",
    "In this notebook, we are interested in counting the number of user messages and words in each conversation.\n",
    "\n",
    "### Results\n",
    "* On average, there is 1.6 message per conversation.\n",
    "* On average, there are 22 words per conversation, but the variance is high."
   ]
  },
  {
   "cell_type": "code",
   "execution_count": 1,
   "id": "3838c2a7-5f33-46f7-b4de-146fb404ec04",
   "metadata": {},
   "outputs": [],
   "source": [
    "import os\n",
    "import pandas as pd\n",
    "import json\n",
    "from tqdm import tqdm\n",
    "import numpy as np\n",
    "import matplotlib.pyplot as plt\n",
    "import random\n",
    "from multiprocessing import Pool"
   ]
  },
  {
   "attachments": {},
   "cell_type": "markdown",
   "id": "cb4e4493-f82e-48fd-9fcf-d8dcc9861a04",
   "metadata": {},
   "source": [
    "### Load dataset"
   ]
  },
  {
   "cell_type": "code",
   "execution_count": 2,
   "id": "ee11c5bc-e93c-4497-8d11-11aebc37ba3c",
   "metadata": {},
   "outputs": [
    {
     "name": "stdout",
     "output_type": "stream",
     "text": [
      "Does dataset path exist ? True\n"
     ]
    }
   ],
   "source": [
    "dirname = \"/home/michael/Workspace/datasets/galaxy_zoo/\"\n",
    "filename = \"GZ_talk_comments_notes_urls_AISSAI.csv\"\n",
    "\n",
    "path = os.path.join(dirname, filename)\n",
    "print('Does dataset path exist ?', os.path.exists(path))"
   ]
  },
  {
   "cell_type": "code",
   "execution_count": 21,
   "id": "393d8193-5faf-4cf0-8ceb-a917a4bba3f9",
   "metadata": {},
   "outputs": [
    {
     "name": "stdout",
     "output_type": "stream",
     "text": [
      "Number of lines: 159704\n"
     ]
    },
    {
     "data": {
      "text/html": [
       "<div>\n",
       "<style scoped>\n",
       "    .dataframe tbody tr th:only-of-type {\n",
       "        vertical-align: middle;\n",
       "    }\n",
       "\n",
       "    .dataframe tbody tr th {\n",
       "        vertical-align: top;\n",
       "    }\n",
       "\n",
       "    .dataframe thead th {\n",
       "        text-align: right;\n",
       "    }\n",
       "</style>\n",
       "<table border=\"1\" class=\"dataframe\">\n",
       "  <thead>\n",
       "    <tr style=\"text-align: right;\">\n",
       "      <th></th>\n",
       "      <th>locations</th>\n",
       "      <th>subject_id</th>\n",
       "      <th>subject_set_id</th>\n",
       "      <th>board_id</th>\n",
       "      <th>board_title</th>\n",
       "      <th>board_description</th>\n",
       "      <th>discussion_title</th>\n",
       "      <th>comment_id</th>\n",
       "      <th>comment_body</th>\n",
       "    </tr>\n",
       "  </thead>\n",
       "  <tbody>\n",
       "    <tr>\n",
       "      <th>0</th>\n",
       "      <td>{\"0\":\"https://panoptes-uploads.zooniverse.org/...</td>\n",
       "      <td>16215478.0</td>\n",
       "      <td>17452.0</td>\n",
       "      <td>1267</td>\n",
       "      <td>Notes</td>\n",
       "      <td>General comment threads about individual subjects</td>\n",
       "      <td>Subject 16215478</td>\n",
       "      <td>876591</td>\n",
       "      <td>The zoom scale of this image is incorrect. I a...</td>\n",
       "    </tr>\n",
       "    <tr>\n",
       "      <th>1</th>\n",
       "      <td>{\"0\":\"https://panoptes-uploads.zooniverse.org/...</td>\n",
       "      <td>16215746.0</td>\n",
       "      <td>17452.0</td>\n",
       "      <td>1267</td>\n",
       "      <td>Notes</td>\n",
       "      <td>General comment threads about individual subjects</td>\n",
       "      <td>Subject 16215746</td>\n",
       "      <td>894378</td>\n",
       "      <td>this seems to have a lens effect</td>\n",
       "    </tr>\n",
       "    <tr>\n",
       "      <th>2</th>\n",
       "      <td>{\"0\":\"https://panoptes-uploads.zooniverse.org/...</td>\n",
       "      <td>16215478.0</td>\n",
       "      <td>17452.0</td>\n",
       "      <td>1267</td>\n",
       "      <td>Notes</td>\n",
       "      <td>General comment threads about individual subjects</td>\n",
       "      <td>Subject 16215478</td>\n",
       "      <td>894381</td>\n",
       "      <td>Agree with @user on scale difference. Answered...</td>\n",
       "    </tr>\n",
       "    <tr>\n",
       "      <th>3</th>\n",
       "      <td>{\"0\":\"https://panoptes-uploads.zooniverse.org/...</td>\n",
       "      <td>16215566.0</td>\n",
       "      <td>17452.0</td>\n",
       "      <td>1267</td>\n",
       "      <td>Notes</td>\n",
       "      <td>General comment threads about individual subjects</td>\n",
       "      <td>Subject 16215566</td>\n",
       "      <td>894401</td>\n",
       "      <td>Looks like two galaxies merging</td>\n",
       "    </tr>\n",
       "    <tr>\n",
       "      <th>4</th>\n",
       "      <td>{\"0\":\"https://panoptes-uploads.zooniverse.org/...</td>\n",
       "      <td>16215897.0</td>\n",
       "      <td>17452.0</td>\n",
       "      <td>1267</td>\n",
       "      <td>Notes</td>\n",
       "      <td>General comment threads about individual subjects</td>\n",
       "      <td>Subject 16215897</td>\n",
       "      <td>894403</td>\n",
       "      <td>appears to have 3 obvious bright objects lined...</td>\n",
       "    </tr>\n",
       "  </tbody>\n",
       "</table>\n",
       "</div>"
      ],
      "text/plain": [
       "                                           locations  subject_id  \\\n",
       "0  {\"0\":\"https://panoptes-uploads.zooniverse.org/...  16215478.0   \n",
       "1  {\"0\":\"https://panoptes-uploads.zooniverse.org/...  16215746.0   \n",
       "2  {\"0\":\"https://panoptes-uploads.zooniverse.org/...  16215478.0   \n",
       "3  {\"0\":\"https://panoptes-uploads.zooniverse.org/...  16215566.0   \n",
       "4  {\"0\":\"https://panoptes-uploads.zooniverse.org/...  16215897.0   \n",
       "\n",
       "   subject_set_id  board_id board_title  \\\n",
       "0         17452.0      1267       Notes   \n",
       "1         17452.0      1267       Notes   \n",
       "2         17452.0      1267       Notes   \n",
       "3         17452.0      1267       Notes   \n",
       "4         17452.0      1267       Notes   \n",
       "\n",
       "                                   board_description  discussion_title  \\\n",
       "0  General comment threads about individual subjects  Subject 16215478   \n",
       "1  General comment threads about individual subjects  Subject 16215746   \n",
       "2  General comment threads about individual subjects  Subject 16215478   \n",
       "3  General comment threads about individual subjects  Subject 16215566   \n",
       "4  General comment threads about individual subjects  Subject 16215897   \n",
       "\n",
       "   comment_id                                       comment_body  \n",
       "0      876591  The zoom scale of this image is incorrect. I a...  \n",
       "1      894378                   this seems to have a lens effect  \n",
       "2      894381  Agree with @user on scale difference. Answered...  \n",
       "3      894401                    Looks like two galaxies merging  \n",
       "4      894403  appears to have 3 obvious bright objects lined...  "
      ]
     },
     "execution_count": 21,
     "metadata": {},
     "output_type": "execute_result"
    }
   ],
   "source": [
    "data = pd.read_csv(path)\n",
    "print('Number of lines:', len(data))\n",
    "data.head()"
   ]
  },
  {
   "attachments": {},
   "cell_type": "markdown",
   "id": "03d49184-2639-4c83-ba62-929dfb01006b",
   "metadata": {},
   "source": [
    "### Group the conversations together\n",
    "\n",
    "Conversations can be discriminated using their 'subject_id'."
   ]
  },
  {
   "cell_type": "code",
   "execution_count": 7,
   "id": "a21cf335-af51-402a-8bca-fb14f266a3ac",
   "metadata": {},
   "outputs": [
    {
     "name": "stdout",
     "output_type": "stream",
     "text": [
      "Number of conversations: 99591\n"
     ]
    }
   ],
   "source": [
    "grouped_data = data.groupby('subject_id')\n",
    "print('Number of conversations:', len(grouped_data))"
   ]
  },
  {
   "cell_type": "markdown",
   "id": "d88c2b79",
   "metadata": {},
   "source": [
    "### Plot histograms of #messages and #characters"
   ]
  },
  {
   "cell_type": "code",
   "execution_count": 26,
   "id": "0914d790",
   "metadata": {},
   "outputs": [
    {
     "name": "stdout",
     "output_type": "stream",
     "text": [
      "0 What is that red object? Star, galaxy, optical effect or other?  \n",
      "\n",
      "1 Hi TiborAcs and welcome to the Zoo,\n",
      "\n",
      "The red object is a foreground star from our galaxy and so is the whitish object at 5 o'clock.\n",
      "Hope this helps and happy hunting !  \n",
      "\n",
      "2 #over-lap by #local-star, \n",
      "\n",
      "3 Thanks! Beautiful ÃÂ°ÃÂÃÂÃÂ \n",
      "\n",
      "4 I thought this looked like an elliptical, but it's very blue. It must be starforming so perhaps it's a spiral after all? Or a blue elliptical? \n",
      "\n"
     ]
    }
   ],
   "source": [
    "# Let's see an example\n",
    "\n",
    "discussion_id, group = next(iter(grouped_data))  # 'group' contains all the information regarding the conversation identified with 'discussion_id'\n",
    "conversation = group['comment_body']  # the actual conversation is stored in the 'comment_body'\n",
    "\n",
    "for i, message in enumerate(conversation):\n",
    "    print(i, message, '\\n')"
   ]
  },
  {
   "cell_type": "code",
   "execution_count": 18,
   "id": "2d64bd0e-4321-42ef-b505-6699d23746b4",
   "metadata": {},
   "outputs": [],
   "source": [
    "n_messages = []\n",
    "n_characters = []\n",
    "\n",
    "for discussion_id, group in grouped_data:\n",
    "    conversation = group['comment_body']\n",
    "    n_messages.append(len(conversation))\n",
    "    group_list = conversation.tolist()\n",
    "\n",
    "    # Clean the conversation: if the current message is a 'nan', remove it\n",
    "    for sentence in group_list:\n",
    "        if isinstance(sentence, float):\n",
    "            if np.isnan(sentence):\n",
    "                group_list.remove(sentence)\n",
    "\n",
    "    n_characters.append(sum(len(sentence.split()) for sentence in group_list))\n",
    "    \n",
    "n_messages = np.array(n_messages)\n",
    "n_characters = np.array(n_characters)"
   ]
  },
  {
   "cell_type": "code",
   "execution_count": 19,
   "id": "5a57aa5a-1d21-4f61-aec9-741058e49f84",
   "metadata": {},
   "outputs": [
    {
     "name": "stdout",
     "output_type": "stream",
     "text": [
      "Mean number of messages per conversation: 1.6030263778855518\n",
      "Mean number of characters per conversation: 22.264752839111967\n"
     ]
    }
   ],
   "source": [
    "print('Mean number of messages per conversation:', n_messages.mean())\n",
    "print('Mean number of characters per conversation:', n_characters.mean())"
   ]
  },
  {
   "cell_type": "code",
   "execution_count": 14,
   "id": "122c6217-7408-4cbb-bf63-5fb81c28f9b8",
   "metadata": {},
   "outputs": [
    {
     "data": {
      "image/png": "[encoded data removed]",
      "text/plain": [
       "<Figure size 1500x500 with 2 Axes>"
      ]
     },
     "metadata": {},
     "output_type": "display_data"
    }
   ],
   "source": [
    "plt.figure(figsize=(15, 5))\n",
    "plt.subplot(1, 2, 1)\n",
    "plt.hist(n_messages, bins=np.arange(10));\n",
    "plt.xlabel('Number of messages per conversation')\n",
    "plt.ylabel('Occurrences')\n",
    "plt.subplot(1, 2, 2)\n",
    "plt.hist(n_characters, bins=np.arange(100));\n",
    "plt.xlabel('Number of words par conversation')\n",
    "plt.ylabel('Occurrences')\n",
    "# plt.savefig(\"/home/michael/Downloads/hists.png\")"
   ]
  },
  {
   "cell_type": "code",
   "execution_count": null,
   "id": "6f38f169",
   "metadata": {},
   "outputs": [],
   "source": []
  }
 ],
 "metadata": {
  "kernelspec": {
   "display_name": "Python 3 (ipykernel)",
   "language": "python",
   "name": "python3"
  },
  "language_info": {
   "codemirror_mode": {
    "name": "ipython",
    "version": 3
   },
   "file_extension": ".py",
   "mimetype": "text/x-python",
   "name": "python",
   "nbconvert_exporter": "python",
   "pygments_lexer": "ipython3",
   "version": "3.11.3"
  }
 },
 "nbformat": 4,
 "nbformat_minor": 5
}
